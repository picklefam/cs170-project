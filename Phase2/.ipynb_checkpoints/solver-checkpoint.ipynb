{
 "cells": [
  {
   "cell_type": "code",
   "execution_count": 28,
   "metadata": {},
   "outputs": [],
   "source": [
    "import networkx as nx\n",
    "from parse import read_input_file, write_output_file\n",
    "from utils import is_valid_network, average_pairwise_distance, average_pairwise_distance_fast\n",
    "import sys\n",
    "from itertools import chain, combinations"
   ]
  },
  {
   "cell_type": "code",
   "execution_count": 29,
   "metadata": {},
   "outputs": [],
   "source": [
    "# def solve(G):\n",
    "#     \"\"\"\n",
    "#     Args:\n",
    "#         G: networkx.Graph\n",
    "#     Returns:\n",
    "#         T: networkx.Graph\n",
    "#     \"\"\"\n",
    "#     # TODO: your code here!\n",
    "#     T = nx.minimum_spanning_tree(G)\n",
    "#     apd = average_pairwise_distance_fast(T)\n",
    "#     while not nx.classes.function.is_empty(T):\n",
    "#         flag = False\n",
    "#         leaves = [n for n, d in T.degree() if d == 1]\n",
    "#         for leaf in leaves:\n",
    "#             subtree = T.copy()\n",
    "#             subtree.remove_node(leaf)\n",
    "#             new_apd = average_pairwise_distance_fast(subtree)\n",
    "#             if is_valid_network(G, subtree) and new_apd < apd:\n",
    "#                 T = subtree\n",
    "#                 apd = new_apd\n",
    "#                 flag = True\n",
    "#         # flag = False => no better tree available\n",
    "#     if not flag:\n",
    "#         return T"
   ]
  },
  {
   "cell_type": "code",
   "execution_count": 30,
   "metadata": {},
   "outputs": [],
   "source": [
    "def solve(G):\n",
    "    return nx.minimum_spanning_tree(G)"
   ]
  },
  {
   "cell_type": "code",
   "execution_count": 25,
   "metadata": {},
   "outputs": [],
   "source": [
    "# def powerset(iterable):\n",
    "#     \"powerset([1,2,3]) --> () (1,) (2,) (3,) (1,2) (1,3) (2,3) (1,2,3)\"\n",
    "#     s = list(iterable)\n",
    "#     return chain.from_iterable(combinations(s, r) for r in range(len(s)+1))"
   ]
  },
  {
   "cell_type": "markdown",
   "metadata": {},
   "source": [
    "Here's an example of how to run your solver.\n",
    "Usage: python3 solver.py test.in"
   ]
  },
  {
   "cell_type": "code",
   "execution_count": 10,
   "metadata": {},
   "outputs": [],
   "source": [
    "# if __name__ == '__main__':\n",
    "#     assert len(sys.argv) == 2\n",
    "#     path = sys.argv[1]\n",
    "#     G = read_input_file(path)\n",
    "#     T = solve(G)\n",
    "#     assert is_valid_network(G, T)\n",
    "#     print(\"Average  pairwise distance: {}\".format(average_pairwise_distance(T)))\n",
    "#     write_output_file(T, 'out/test.out')"
   ]
  }
 ],
 "metadata": {
  "kernelspec": {
   "display_name": "Python 3",
   "language": "python",
   "name": "python3"
  },
  "language_info": {
   "codemirror_mode": {
    "name": "ipython",
    "version": 3
   },
   "file_extension": ".py",
   "mimetype": "text/x-python",
   "name": "python",
   "nbconvert_exporter": "python",
   "pygments_lexer": "ipython3",
   "version": "3.7.4"
  }
 },
 "nbformat": 4,
 "nbformat_minor": 2
}
